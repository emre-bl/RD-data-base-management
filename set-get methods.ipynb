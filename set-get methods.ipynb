{
 "cells": [
  {
   "cell_type": "markdown",
   "metadata": {},
   "source": [
    "## tries"
   ]
  },
  {
   "cell_type": "code",
   "execution_count": 8,
   "metadata": {},
   "outputs": [],
   "source": [
    "import psycopg2\n",
    "conn = psycopg2.connect(\n",
    "    host=\"localhost\",\n",
    "    database=\"Labaratuar\",\n",
    "    user=\"postgres\",\n",
    "    password=\"4664\")\n",
    "cursor = conn.cursor()\n",
    "cursor.execute(\"select version()\")\n",
    "data = cursor.fetchone()\n",
    "#print(\"Connection established to: \",data)"
   ]
  },
  {
   "cell_type": "code",
   "execution_count": 13,
   "metadata": {},
   "outputs": [
    {
     "name": "stderr",
     "output_type": "stream",
     "text": [
      "C:\\Windows\\Temp\\ipykernel_3724\\895067562.py:2: UserWarning: pandas only supports SQLAlchemy connectable (engine/connection) or database string URI or sqlite3 DBAPI2 connection. Other DBAPI2 objects are not tested. Please consider using SQLAlchemy.\n",
      "  calisanlar = pd.read_sql('SELECT * FROM calisan', conn)\n",
      "C:\\Windows\\Temp\\ipykernel_3724\\895067562.py:6: UserWarning: pandas only supports SQLAlchemy connectable (engine/connection) or database string URI or sqlite3 DBAPI2 connection. Other DBAPI2 objects are not tested. Please consider using SQLAlchemy.\n",
      "  pembe_calisanlar.to_sql('pembe_calisanlar_tablosu', conn)\n"
     ]
    },
    {
     "ename": "DatabaseError",
     "evalue": "Execution failed on sql 'SELECT name FROM sqlite_master WHERE type='table' AND name=?;': syntax error at or near \";\"\nLINE 1: ...ELECT name FROM sqlite_master WHERE type='table' AND name=?;\n                                                                      ^\n",
     "output_type": "error",
     "traceback": [
      "\u001b[1;31m---------------------------------------------------------------------------\u001b[0m",
      "\u001b[1;31mSyntaxError\u001b[0m                               Traceback (most recent call last)",
      "File \u001b[1;32mc:\\Users\\emreb\\AppData\\Local\\Programs\\Python\\Python38\\lib\\site-packages\\pandas\\io\\sql.py:2018\u001b[0m, in \u001b[0;36mSQLiteDatabase.execute\u001b[1;34m(self, *args, **kwargs)\u001b[0m\n\u001b[0;32m   2017\u001b[0m \u001b[39mtry\u001b[39;00m:\n\u001b[1;32m-> 2018\u001b[0m     cur\u001b[39m.\u001b[39;49mexecute(\u001b[39m*\u001b[39;49margs, \u001b[39m*\u001b[39;49m\u001b[39m*\u001b[39;49mkwargs)\n\u001b[0;32m   2019\u001b[0m     \u001b[39mreturn\u001b[39;00m cur\n",
      "\u001b[1;31mSyntaxError\u001b[0m: syntax error at or near \";\"\nLINE 1: ...ELECT name FROM sqlite_master WHERE type='table' AND name=?;\n                                                                      ^\n",
      "\nThe above exception was the direct cause of the following exception:\n",
      "\u001b[1;31mDatabaseError\u001b[0m                             Traceback (most recent call last)",
      "Cell \u001b[1;32mIn [13], line 6\u001b[0m\n\u001b[0;32m      2\u001b[0m calisanlar \u001b[39m=\u001b[39m pd\u001b[39m.\u001b[39mread_sql(\u001b[39m'\u001b[39m\u001b[39mSELECT * FROM calisan\u001b[39m\u001b[39m'\u001b[39m, conn)\n\u001b[0;32m      4\u001b[0m pembe_calisanlar \u001b[39m=\u001b[39m calisanlar[calisanlar[\u001b[39m\"\u001b[39m\u001b[39mekipadı\u001b[39m\u001b[39m\"\u001b[39m] \u001b[39m==\u001b[39m \u001b[39m\"\u001b[39m\u001b[39mPink\u001b[39m\u001b[39m\"\u001b[39m]\n\u001b[1;32m----> 6\u001b[0m pembe_calisanlar\u001b[39m.\u001b[39;49mto_sql(\u001b[39m'\u001b[39;49m\u001b[39mpembe_calisanlar_tablosu\u001b[39;49m\u001b[39m'\u001b[39;49m, conn)\n\u001b[0;32m      8\u001b[0m read_pembe_calisanlar \u001b[39m=\u001b[39m pd\u001b[39m.\u001b[39mread_sql(\u001b[39m'\u001b[39m\u001b[39mSELECT * FROM pembe_calisanlar_tablosu\u001b[39m\u001b[39m'\u001b[39m, conn)\n\u001b[0;32m      9\u001b[0m read_pembe_calisanlar\n",
      "File \u001b[1;32mc:\\Users\\emreb\\AppData\\Local\\Programs\\Python\\Python38\\lib\\site-packages\\pandas\\core\\generic.py:2987\u001b[0m, in \u001b[0;36mNDFrame.to_sql\u001b[1;34m(self, name, con, schema, if_exists, index, index_label, chunksize, dtype, method)\u001b[0m\n\u001b[0;32m   2830\u001b[0m \u001b[39m\"\"\"\u001b[39;00m\n\u001b[0;32m   2831\u001b[0m \u001b[39mWrite records stored in a DataFrame to a SQL database.\u001b[39;00m\n\u001b[0;32m   2832\u001b[0m \n\u001b[1;32m   (...)\u001b[0m\n\u001b[0;32m   2983\u001b[0m \u001b[39m[(1,), (None,), (2,)]\u001b[39;00m\n\u001b[0;32m   2984\u001b[0m \u001b[39m\"\"\"\u001b[39;00m  \u001b[39m# noqa:E501\u001b[39;00m\n\u001b[0;32m   2985\u001b[0m \u001b[39mfrom\u001b[39;00m \u001b[39mpandas\u001b[39;00m\u001b[39m.\u001b[39;00m\u001b[39mio\u001b[39;00m \u001b[39mimport\u001b[39;00m sql\n\u001b[1;32m-> 2987\u001b[0m \u001b[39mreturn\u001b[39;00m sql\u001b[39m.\u001b[39;49mto_sql(\n\u001b[0;32m   2988\u001b[0m     \u001b[39mself\u001b[39;49m,\n\u001b[0;32m   2989\u001b[0m     name,\n\u001b[0;32m   2990\u001b[0m     con,\n\u001b[0;32m   2991\u001b[0m     schema\u001b[39m=\u001b[39;49mschema,\n\u001b[0;32m   2992\u001b[0m     if_exists\u001b[39m=\u001b[39;49mif_exists,\n\u001b[0;32m   2993\u001b[0m     index\u001b[39m=\u001b[39;49mindex,\n\u001b[0;32m   2994\u001b[0m     index_label\u001b[39m=\u001b[39;49mindex_label,\n\u001b[0;32m   2995\u001b[0m     chunksize\u001b[39m=\u001b[39;49mchunksize,\n\u001b[0;32m   2996\u001b[0m     dtype\u001b[39m=\u001b[39;49mdtype,\n\u001b[0;32m   2997\u001b[0m     method\u001b[39m=\u001b[39;49mmethod,\n\u001b[0;32m   2998\u001b[0m )\n",
      "File \u001b[1;32mc:\\Users\\emreb\\AppData\\Local\\Programs\\Python\\Python38\\lib\\site-packages\\pandas\\io\\sql.py:695\u001b[0m, in \u001b[0;36mto_sql\u001b[1;34m(frame, name, con, schema, if_exists, index, index_label, chunksize, dtype, method, engine, **engine_kwargs)\u001b[0m\n\u001b[0;32m    690\u001b[0m \u001b[39melif\u001b[39;00m \u001b[39mnot\u001b[39;00m \u001b[39misinstance\u001b[39m(frame, DataFrame):\n\u001b[0;32m    691\u001b[0m     \u001b[39mraise\u001b[39;00m \u001b[39mNotImplementedError\u001b[39;00m(\n\u001b[0;32m    692\u001b[0m         \u001b[39m\"\u001b[39m\u001b[39m'\u001b[39m\u001b[39mframe\u001b[39m\u001b[39m'\u001b[39m\u001b[39m argument should be either a Series or a DataFrame\u001b[39m\u001b[39m\"\u001b[39m\n\u001b[0;32m    693\u001b[0m     )\n\u001b[1;32m--> 695\u001b[0m \u001b[39mreturn\u001b[39;00m pandas_sql\u001b[39m.\u001b[39;49mto_sql(\n\u001b[0;32m    696\u001b[0m     frame,\n\u001b[0;32m    697\u001b[0m     name,\n\u001b[0;32m    698\u001b[0m     if_exists\u001b[39m=\u001b[39;49mif_exists,\n\u001b[0;32m    699\u001b[0m     index\u001b[39m=\u001b[39;49mindex,\n\u001b[0;32m    700\u001b[0m     index_label\u001b[39m=\u001b[39;49mindex_label,\n\u001b[0;32m    701\u001b[0m     schema\u001b[39m=\u001b[39;49mschema,\n\u001b[0;32m    702\u001b[0m     chunksize\u001b[39m=\u001b[39;49mchunksize,\n\u001b[0;32m    703\u001b[0m     dtype\u001b[39m=\u001b[39;49mdtype,\n\u001b[0;32m    704\u001b[0m     method\u001b[39m=\u001b[39;49mmethod,\n\u001b[0;32m    705\u001b[0m     engine\u001b[39m=\u001b[39;49mengine,\n\u001b[0;32m    706\u001b[0m     \u001b[39m*\u001b[39;49m\u001b[39m*\u001b[39;49mengine_kwargs,\n\u001b[0;32m    707\u001b[0m )\n",
      "File \u001b[1;32mc:\\Users\\emreb\\AppData\\Local\\Programs\\Python\\Python38\\lib\\site-packages\\pandas\\io\\sql.py:2187\u001b[0m, in \u001b[0;36mSQLiteDatabase.to_sql\u001b[1;34m(self, frame, name, if_exists, index, index_label, schema, chunksize, dtype, method, **kwargs)\u001b[0m\n\u001b[0;32m   2176\u001b[0m             \u001b[39mraise\u001b[39;00m \u001b[39mValueError\u001b[39;00m(\u001b[39mf\u001b[39m\u001b[39m\"\u001b[39m\u001b[39m{\u001b[39;00mcol\u001b[39m}\u001b[39;00m\u001b[39m (\u001b[39m\u001b[39m{\u001b[39;00mmy_type\u001b[39m}\u001b[39;00m\u001b[39m) not a string\u001b[39m\u001b[39m\"\u001b[39m)\n\u001b[0;32m   2178\u001b[0m table \u001b[39m=\u001b[39m SQLiteTable(\n\u001b[0;32m   2179\u001b[0m     name,\n\u001b[0;32m   2180\u001b[0m     \u001b[39mself\u001b[39m,\n\u001b[1;32m   (...)\u001b[0m\n\u001b[0;32m   2185\u001b[0m     dtype\u001b[39m=\u001b[39mdtype,\n\u001b[0;32m   2186\u001b[0m )\n\u001b[1;32m-> 2187\u001b[0m table\u001b[39m.\u001b[39;49mcreate()\n\u001b[0;32m   2188\u001b[0m \u001b[39mreturn\u001b[39;00m table\u001b[39m.\u001b[39minsert(chunksize, method)\n",
      "File \u001b[1;32mc:\\Users\\emreb\\AppData\\Local\\Programs\\Python\\Python38\\lib\\site-packages\\pandas\\io\\sql.py:827\u001b[0m, in \u001b[0;36mSQLTable.create\u001b[1;34m(self)\u001b[0m\n\u001b[0;32m    826\u001b[0m \u001b[39mdef\u001b[39;00m \u001b[39mcreate\u001b[39m(\u001b[39mself\u001b[39m) \u001b[39m-\u001b[39m\u001b[39m>\u001b[39m \u001b[39mNone\u001b[39;00m:\n\u001b[1;32m--> 827\u001b[0m     \u001b[39mif\u001b[39;00m \u001b[39mself\u001b[39;49m\u001b[39m.\u001b[39;49mexists():\n\u001b[0;32m    828\u001b[0m         \u001b[39mif\u001b[39;00m \u001b[39mself\u001b[39m\u001b[39m.\u001b[39mif_exists \u001b[39m==\u001b[39m \u001b[39m\"\u001b[39m\u001b[39mfail\u001b[39m\u001b[39m\"\u001b[39m:\n\u001b[0;32m    829\u001b[0m             \u001b[39mraise\u001b[39;00m \u001b[39mValueError\u001b[39;00m(\u001b[39mf\u001b[39m\u001b[39m\"\u001b[39m\u001b[39mTable \u001b[39m\u001b[39m'\u001b[39m\u001b[39m{\u001b[39;00m\u001b[39mself\u001b[39m\u001b[39m.\u001b[39mname\u001b[39m}\u001b[39;00m\u001b[39m'\u001b[39m\u001b[39m already exists.\u001b[39m\u001b[39m\"\u001b[39m)\n",
      "File \u001b[1;32mc:\\Users\\emreb\\AppData\\Local\\Programs\\Python\\Python38\\lib\\site-packages\\pandas\\io\\sql.py:814\u001b[0m, in \u001b[0;36mSQLTable.exists\u001b[1;34m(self)\u001b[0m\n\u001b[0;32m    813\u001b[0m \u001b[39mdef\u001b[39;00m \u001b[39mexists\u001b[39m(\u001b[39mself\u001b[39m):\n\u001b[1;32m--> 814\u001b[0m     \u001b[39mreturn\u001b[39;00m \u001b[39mself\u001b[39;49m\u001b[39m.\u001b[39;49mpd_sql\u001b[39m.\u001b[39;49mhas_table(\u001b[39mself\u001b[39;49m\u001b[39m.\u001b[39;49mname, \u001b[39mself\u001b[39;49m\u001b[39m.\u001b[39;49mschema)\n",
      "File \u001b[1;32mc:\\Users\\emreb\\AppData\\Local\\Programs\\Python\\Python38\\lib\\site-packages\\pandas\\io\\sql.py:2195\u001b[0m, in \u001b[0;36mSQLiteDatabase.has_table\u001b[1;34m(self, name, schema)\u001b[0m\n\u001b[0;32m   2192\u001b[0m wld \u001b[39m=\u001b[39m \u001b[39m\"\u001b[39m\u001b[39m?\u001b[39m\u001b[39m\"\u001b[39m\n\u001b[0;32m   2193\u001b[0m query \u001b[39m=\u001b[39m \u001b[39mf\u001b[39m\u001b[39m\"\u001b[39m\u001b[39mSELECT name FROM sqlite_master WHERE type=\u001b[39m\u001b[39m'\u001b[39m\u001b[39mtable\u001b[39m\u001b[39m'\u001b[39m\u001b[39m AND name=\u001b[39m\u001b[39m{\u001b[39;00mwld\u001b[39m}\u001b[39;00m\u001b[39m;\u001b[39m\u001b[39m\"\u001b[39m\n\u001b[1;32m-> 2195\u001b[0m \u001b[39mreturn\u001b[39;00m \u001b[39mlen\u001b[39m(\u001b[39mself\u001b[39;49m\u001b[39m.\u001b[39;49mexecute(query, [name])\u001b[39m.\u001b[39mfetchall()) \u001b[39m>\u001b[39m \u001b[39m0\u001b[39m\n",
      "File \u001b[1;32mc:\\Users\\emreb\\AppData\\Local\\Programs\\Python\\Python38\\lib\\site-packages\\pandas\\io\\sql.py:2030\u001b[0m, in \u001b[0;36mSQLiteDatabase.execute\u001b[1;34m(self, *args, **kwargs)\u001b[0m\n\u001b[0;32m   2027\u001b[0m     \u001b[39mraise\u001b[39;00m ex \u001b[39mfrom\u001b[39;00m \u001b[39minner_exc\u001b[39;00m\n\u001b[0;32m   2029\u001b[0m ex \u001b[39m=\u001b[39m DatabaseError(\u001b[39mf\u001b[39m\u001b[39m\"\u001b[39m\u001b[39mExecution failed on sql \u001b[39m\u001b[39m'\u001b[39m\u001b[39m{\u001b[39;00margs[\u001b[39m0\u001b[39m]\u001b[39m}\u001b[39;00m\u001b[39m'\u001b[39m\u001b[39m: \u001b[39m\u001b[39m{\u001b[39;00mexc\u001b[39m}\u001b[39;00m\u001b[39m\"\u001b[39m)\n\u001b[1;32m-> 2030\u001b[0m \u001b[39mraise\u001b[39;00m ex \u001b[39mfrom\u001b[39;00m \u001b[39mexc\u001b[39;00m\n",
      "\u001b[1;31mDatabaseError\u001b[0m: Execution failed on sql 'SELECT name FROM sqlite_master WHERE type='table' AND name=?;': syntax error at or near \";\"\nLINE 1: ...ELECT name FROM sqlite_master WHERE type='table' AND name=?;\n                                                                      ^\n"
     ]
    }
   ],
   "source": [
    "\n",
    "import pandas as pd\n",
    "calisanlar = pd.read_sql('SELECT * FROM calisan', conn)\n",
    "\n",
    "pembe_calisanlar = calisanlar[calisanlar[\"ekipadı\"] == \"Pink\"]\n",
    "\n",
    "pembe_calisanlar.to_sql('pembe_calisanlar_tablosu', conn)\n",
    "\n",
    "read_pembe_calisanlar = pd.read_sql('SELECT * FROM pembe_calisanlar_tablosu', conn)\n",
    "read_pembe_calisanlar"
   ]
  },
  {
   "cell_type": "code",
   "execution_count": 14,
   "metadata": {},
   "outputs": [
    {
     "data": {
      "text/html": [
       "<div>\n",
       "<style scoped>\n",
       "    .dataframe tbody tr th:only-of-type {\n",
       "        vertical-align: middle;\n",
       "    }\n",
       "\n",
       "    .dataframe tbody tr th {\n",
       "        vertical-align: top;\n",
       "    }\n",
       "\n",
       "    .dataframe thead th {\n",
       "        text-align: right;\n",
       "    }\n",
       "</style>\n",
       "<table border=\"1\" class=\"dataframe\">\n",
       "  <thead>\n",
       "    <tr style=\"text-align: right;\">\n",
       "      <th></th>\n",
       "      <th>ssn</th>\n",
       "      <th>ad</th>\n",
       "      <th>soyad</th>\n",
       "      <th>yaş</th>\n",
       "      <th>cinsiyet</th>\n",
       "      <th>ekipadı</th>\n",
       "      <th>maas</th>\n",
       "      <th>calisantipi</th>\n",
       "    </tr>\n",
       "  </thead>\n",
       "  <tbody>\n",
       "    <tr>\n",
       "      <th>5</th>\n",
       "      <td>380-01-8869</td>\n",
       "      <td>Tanney</td>\n",
       "      <td>Rugiero</td>\n",
       "      <td>21</td>\n",
       "      <td>M</td>\n",
       "      <td>Pink</td>\n",
       "      <td>NaN</td>\n",
       "      <td>Stajyer</td>\n",
       "    </tr>\n",
       "    <tr>\n",
       "      <th>6</th>\n",
       "      <td>510-52-7654</td>\n",
       "      <td>Jillie</td>\n",
       "      <td>Mogie</td>\n",
       "      <td>23</td>\n",
       "      <td>F</td>\n",
       "      <td>Pink</td>\n",
       "      <td>NaN</td>\n",
       "      <td>Stajyer</td>\n",
       "    </tr>\n",
       "    <tr>\n",
       "      <th>18</th>\n",
       "      <td>732-85-2022</td>\n",
       "      <td>Ariel</td>\n",
       "      <td>Hearons</td>\n",
       "      <td>33</td>\n",
       "      <td>M</td>\n",
       "      <td>Pink</td>\n",
       "      <td>8596.0</td>\n",
       "      <td>Maasli</td>\n",
       "    </tr>\n",
       "    <tr>\n",
       "      <th>25</th>\n",
       "      <td>815-50-0245</td>\n",
       "      <td>Curcio</td>\n",
       "      <td>Elkington</td>\n",
       "      <td>45</td>\n",
       "      <td>M</td>\n",
       "      <td>Pink</td>\n",
       "      <td>8036.0</td>\n",
       "      <td>Maasli</td>\n",
       "    </tr>\n",
       "    <tr>\n",
       "      <th>26</th>\n",
       "      <td>555-72-2551</td>\n",
       "      <td>Roarke</td>\n",
       "      <td>Futty</td>\n",
       "      <td>46</td>\n",
       "      <td>M</td>\n",
       "      <td>Pink</td>\n",
       "      <td>9924.0</td>\n",
       "      <td>Maasli</td>\n",
       "    </tr>\n",
       "  </tbody>\n",
       "</table>\n",
       "</div>"
      ],
      "text/plain": [
       "            ssn      ad      soyad  yaş cinsiyet ekipadı    maas calisantipi\n",
       "5   380-01-8869  Tanney    Rugiero   21        M    Pink     NaN     Stajyer\n",
       "6   510-52-7654  Jillie      Mogie   23        F    Pink     NaN     Stajyer\n",
       "18  732-85-2022   Ariel    Hearons   33        M    Pink  8596.0      Maasli\n",
       "25  815-50-0245  Curcio  Elkington   45        M    Pink  8036.0      Maasli\n",
       "26  555-72-2551  Roarke      Futty   46        M    Pink  9924.0      Maasli"
      ]
     },
     "execution_count": 14,
     "metadata": {},
     "output_type": "execute_result"
    }
   ],
   "source": [
    "pembe_calisanlar"
   ]
  },
  {
   "cell_type": "code",
   "execution_count": null,
   "metadata": {},
   "outputs": [
    {
     "name": "stdout",
     "output_type": "stream",
     "text": [
      "1\n",
      "2\n",
      "3\n",
      "4\n",
      "5\n",
      "6\n",
      "7\n",
      "8\n",
      "9\n"
     ]
    }
   ],
   "source": [
    "\"\"\"\n",
    "query  = \"\"\"SELECT * FROM bina\"\"\"\n",
    "cursor.execute(query)\n",
    "conn.commit()\n",
    "results = cursor.fetchall()\n",
    "for row in results:\n",
    "    id = row[0]\n",
    "    print (id)\"\"\""
   ]
  },
  {
   "cell_type": "code",
   "execution_count": 88,
   "metadata": {},
   "outputs": [],
   "source": [
    "from pypika import Query, Table, Field, Schema\n",
    "\n",
    "def set_salaries(x, ekipler = None):\n",
    "    calisan = Table('calisan')\n",
    "\n",
    "    if ekipler == None:\n",
    "        q = Query.update(calisan).set(calisan.maas,calisan.maas*x).where(calisan.calisantipi == 'Maasli')\n",
    "        cursor.execute(q.get_sql())\n",
    "        conn.commit()\n",
    "    else:\n",
    "        for ekip in ekipler:\n",
    "            q = Query.update(calisan).set(calisan.maas,calisan.maas*x).where(\n",
    "                calisan.calisantipi == 'Maasli' and calisan.ekipadı == ekip\n",
    "            )\n",
    "            cursor.execute(q.get_sql())\n",
    "            conn.commit()"
   ]
  },
  {
   "cell_type": "code",
   "execution_count": 95,
   "metadata": {},
   "outputs": [],
   "source": [
    "# set_salaries(5,['Violet'])\n"
   ]
  },
  {
   "cell_type": "code",
   "execution_count": 96,
   "metadata": {},
   "outputs": [
    {
     "name": "stdout",
     "output_type": "stream",
     "text": [
      "Mauv None\n",
      "Mauv None\n",
      "Mauv None\n",
      "Mauv None\n",
      "Teal None\n",
      "Pink None\n",
      "Pink None\n",
      "Crimson None\n",
      "Aquamarine None\n",
      "Fuscia None\n",
      "Fuscia None\n",
      "Mauv 9140\n",
      "Mauv 9556\n",
      "Mauv 8072\n",
      "Teal 6300\n",
      "Teal 8288\n",
      "Teal 8524\n",
      "Teal 7412\n",
      "Pink 8596\n",
      "Violet None\n",
      "Violet 176200\n",
      "Violet 197100\n",
      "Violet 183800\n",
      "Violet 174800\n",
      "Violet 246200\n",
      "Pink 8036\n",
      "Pink 9924\n",
      "Crimson 6700\n",
      "Crimson 6932\n",
      "Crimson 8116\n",
      "Crimson 8412\n",
      "Aquamarine 9940\n",
      "Aquamarine 7224\n",
      "Aquamarine 7352\n",
      "Fuscia 8092\n"
     ]
    }
   ],
   "source": [
    "query  = \"\"\"SELECT * FROM calisan\"\"\"\n",
    "cursor.execute(query)\n",
    "conn.commit()\n",
    "results = cursor.fetchall()\n",
    "for row in results:\n",
    "    print (row[5],row[6])\n"
   ]
  },
  {
   "cell_type": "code",
   "execution_count": null,
   "metadata": {},
   "outputs": [
    {
     "name": "stdout",
     "output_type": "stream",
     "text": [
      "Violet 6 1 1 4YE-7D 166-43-7912\n",
      "Mauv 7 2 2 0IW-7O 234-12-6829\n",
      "Teal 5 3 3 5TU-2V 774-36-4715\n",
      "Pink 5 4 4 0PR-9F 815-50-0245\n",
      "Crimson 5 5 5 1KA-7Z 231-49-7354\n",
      "Aquamarine 4 6 6 8ZG-9L 530-96-4632\n",
      "Fuscia 3 7 7 3ZB-3C 359-58-9438\n"
     ]
    }
   ],
   "source": [
    "from pypika import Query, Table, Field\n",
    "from pypika import Table, Query, Schema\n",
    "\n",
    "schema = Schema('public')\n",
    "q = Query.from_(schema.bina).select(bina.binano)\n",
    "\n",
    "\"\"\"q = Query.from_('binano').select('bno')\"\"\"\n",
    "\n",
    "cursor.execute(q.get_sql())\n",
    "conn.commit()\n",
    "for row in results:\n",
    "    print (*row)"
   ]
  },
  {
   "cell_type": "code",
   "execution_count": null,
   "metadata": {},
   "outputs": [
    {
     "name": "stdout",
     "output_type": "stream",
     "text": [
      "1\n",
      "2\n",
      "3\n",
      "4\n",
      "5\n",
      "6\n",
      "7\n",
      "8\n",
      "9\n"
     ]
    }
   ],
   "source": [
    "from pypika import Query\n",
    "q = Query.from_('bina').select('binano')\n",
    "\n",
    "cursor.execute(q.get_sql())\n",
    "conn.commit()\n",
    "results = cursor.fetchall()\n",
    "for row in results:\n",
    "    print (*row)\n"
   ]
  },
  {
   "cell_type": "code",
   "execution_count": null,
   "metadata": {},
   "outputs": [],
   "source": [
    "from pypika import Query, Table, Field, Schema\n",
    "\n",
    "calisan = Table('calisan')\n",
    "\n",
    "q = Query.update(calisan).set(calisan.maas,calisan.maas*0.5).where(calisan.calisantipi == 'Maasli')\n",
    "cursor.execute(q.get_sql())\n",
    "conn.commit()"
   ]
  },
  {
   "cell_type": "code",
   "execution_count": null,
   "metadata": {},
   "outputs": [],
   "source": [
    "import psycopg2\n",
    "import pandas as pd\n",
    "from sqlalchemy import create_engine\n",
    "\n",
    "user = 'postgres'\n",
    "password = '4664'\n",
    "host = 'localhost'\n",
    "port = 5432\n",
    "database = 'Labaratuar'\n",
    "  \n",
    "# PYTHON FUNCTION TO CONNECT TO THE POSTGRESQL DATABASE AND\n",
    "# RETURN THE SQLACHEMY ENGINE OBJECT\n",
    "def get_connection():\n",
    "    return create_engine(\n",
    "        url=\"postgresql://{0}:{1}@{2}:{3}/{4}\".format(\n",
    "            user, password, host, port, database\n",
    "        )\n",
    "    )\n",
    "  \n",
    "  \n",
    "if name == '__main__':\n",
    "  \n",
    "    try:\n",
    "        # GET THE CONNECTION OBJECT (ENGINE) FOR THE DATABASE\n",
    "        engine = get_connection()\n",
    "        print(\n",
    "            f\"Connection to the {host} for user {user} created successfully.\")\n",
    "    except Exception as ex:\n",
    "        print(\"Connection could not be made due to the following error: \\n\", ex)\n",
    "\n",
    "conn = engine.connect()\n",
    "\n",
    "  \n",
    "table = pd.read_sql('SELECT * FROM calisan', conn)\n",
    "print(table)\n",
    "table.to_sql('k', engine, if_exists='replace', index=False)"
   ]
  },
  {
   "cell_type": "code",
   "execution_count": null,
   "metadata": {},
   "outputs": [],
   "source": [
    "engine = get_connection()"
   ]
  },
  {
   "cell_type": "code",
   "execution_count": null,
   "metadata": {},
   "outputs": [],
   "source": [
    "import pandas as pd\n",
    "calisanlar = pd.read_sql('SELECT * FROM calisan', conn)\n",
    "\n",
    "pembe_calisanlar = calisanlar[calisanlar[\"ekipadı\"] == \"Pink\"]\n",
    "\n",
    "pembe_calisanlar.to_sql('pembe_calisanlar_tablosu', conn)\n",
    "\n",
    "read_pembe_calisanlar = pd.read_sql('SELECT * FROM pembe_calisanlar_tablosu', conn)\n",
    "read_pembe_calisanlar"
   ]
  },
  {
   "cell_type": "code",
   "execution_count": null,
   "metadata": {},
   "outputs": [],
   "source": []
  },
  {
   "cell_type": "code",
   "execution_count": null,
   "metadata": {},
   "outputs": [],
   "source": []
  },
  {
   "cell_type": "markdown",
   "metadata": {},
   "source": [
    "# Metotlar"
   ]
  },
  {
   "cell_type": "code",
   "execution_count": null,
   "metadata": {},
   "outputs": [],
   "source": [
    "def get_engine_and_conn():\n",
    "    import psycopg2\n",
    "    import pandas as pd\n",
    "    from sqlalchemy import create_engine\n",
    "    user, password, host, port, database = 'postgres', '4664', 'localhost', 5432, 'Labaratuar'\n",
    "\n",
    "    try:\n",
    "        # get the connection object (engine) for the database\n",
    "        engine = create_engine(url=\"postgresql://{0}:{1}@{2}:{3}/{4}\".format(user, password, host, port, database))\n",
    "        print(f\"Connection to the {host} for user {user} created successfully.\")\n",
    "    except Exception as ex:\n",
    "        print(\"Connection could not be made due to the following error: \\n\", ex)\n",
    "    \n",
    "    return engine, engine.connect()"
   ]
  },
  {
   "cell_type": "markdown",
   "metadata": {},
   "source": [
    "## get"
   ]
  },
  {
   "cell_type": "code",
   "execution_count": 1,
   "metadata": {},
   "outputs": [],
   "source": [
    "def get_table(table_name, constraints=\"\"):\n",
    "    \"\"\"\n",
    "    tablo adı ve gerekli constraint'ler string şeklinde sağlanmalıdır:\n",
    "    get_table(\"calisan\")\n",
    "    get_table(\"calisan\", constraints=\"calisanadı='jack' AND maaş=6\")\n",
    "    get_table(\"virüs\", constraints=\"virüstipi='rna' AND ipliksayisi>200 OR genomsayisi<130 AND virüsadı!='vty-4'\")\n",
    "    \"\"\"\n",
    "    engine, conn = get_engine_and_conn()\n",
    "    where = \"\" if constraints==\"\" else ' WHERE '\n",
    "    table = pd.read_sql('SELECT * FROM ' + table_name + where + constraints, conn)\n",
    "    return table"
   ]
  },
  {
   "cell_type": "markdown",
   "metadata": {},
   "source": [
    "## set"
   ]
  },
  {
   "cell_type": "code",
   "execution_count": 3,
   "metadata": {},
   "outputs": [],
   "source": [
    "def set_table(table_name, constraints=\"\", new_values_dict={},):\n",
    "    \"\"\"\n",
    "    tablo adı ve gerekli constraint'ler string şeklinde sağlanmalıdır:\n",
    "    set_table(\"calisan\")\n",
    "    set_table(\"calisan\", constraints = \"calisanadı='jack'\", new_values_dict = {\"maaş\":5000, \"ekipadi\":\"ekibi yok\"})\n",
    "    set_table(\"virüs\", constraints = \"virüstipi='rna' AND ipliksayisi>200 AND virüsadı!='vty-4'\", new_values_dict = {\"genomsayisi\":0, \"virüsadi\":\"çok iplikli rna virüs\"})\n",
    "    \"\"\"\n",
    "    engine, conn = get_engine_and_conn()\n",
    "    full_table = get_table(table_name)\n",
    "    selected_table = get_table(table_name, constraints)\n",
    "\n",
    "    import itertools\n",
    "    for change in itertools.product(selected_table.index, list(zip(new_values_dict.keys(), new_values_dict.values()))):\n",
    "        selected_table.loc[change[0], change[1][0]] = change[1][1]\n",
    "\n",
    "    full_table.update(selected_table)\n",
    "    full_table.to_sql(table_name, engine, if_exists='replace', index=False)"
   ]
  },
  {
   "cell_type": "code",
   "execution_count": null,
   "metadata": {},
   "outputs": [],
   "source": []
  }
 ],
 "metadata": {
  "kernelspec": {
   "display_name": "Python 3.10.6 64-bit",
   "language": "python",
   "name": "python3"
  },
  "language_info": {
   "codemirror_mode": {
    "name": "ipython",
    "version": 3
   },
   "file_extension": ".py",
   "mimetype": "text/x-python",
   "name": "python",
   "nbconvert_exporter": "python",
   "pygments_lexer": "ipython3",
   "version": "3.10.6"
  },
  "orig_nbformat": 4,
  "vscode": {
   "interpreter": {
    "hash": "916dbcbb3f70747c44a77c7bcd40155683ae19c65e1c03b4aa3499c5328201f1"
   }
  }
 },
 "nbformat": 4,
 "nbformat_minor": 2
}
