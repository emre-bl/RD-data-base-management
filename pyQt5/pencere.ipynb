{
 "cells": [
  {
   "cell_type": "code",
   "execution_count": 3,
   "metadata": {},
   "outputs": [
    {
     "ename": "SystemExit",
     "evalue": "0",
     "output_type": "error",
     "traceback": [
      "An exception has occurred, use %tb to see the full traceback.\n",
      "\u001b[1;31mSystemExit\u001b[0m\u001b[1;31m:\u001b[0m 0\n"
     ]
    }
   ],
   "source": [
    "import sys\n",
    "\n",
    "from PyQt5 import QtWidgets\n",
    "\n",
    "def Pencere():\n",
    "\n",
    "    app = QtWidgets.QApplication(sys.argv)\n",
    "\n",
    "    pencere = QtWidgets.QWidget()\n",
    "\n",
    "    pencere.setWindowTitle(\"Pencere\")\n",
    "\n",
    "    pencere.show()\n",
    "\n",
    "    sys.exit(app.exec_())\n",
    "\n",
    "\n",
    "Pencere()\n"
   ]
  },
  {
   "cell_type": "markdown",
   "metadata": {},
   "source": []
  },
  {
   "cell_type": "markdown",
   "metadata": {},
   "source": []
  },
  {
   "cell_type": "code",
   "execution_count": null,
   "metadata": {},
   "outputs": [],
   "source": []
  },
  {
   "cell_type": "code",
   "execution_count": null,
   "metadata": {},
   "outputs": [],
   "source": []
  }
 ],
 "metadata": {
  "kernelspec": {
   "display_name": "base",
   "language": "python",
   "name": "python3"
  },
  "language_info": {
   "codemirror_mode": {
    "name": "ipython",
    "version": 3
   },
   "file_extension": ".py",
   "mimetype": "text/x-python",
   "name": "python",
   "nbconvert_exporter": "python",
   "pygments_lexer": "ipython3",
   "version": "3.9.7"
  },
  "orig_nbformat": 4,
  "vscode": {
   "interpreter": {
    "hash": "3182b8545a1debe976130e08c1f12303d2138a80d5e38eea19c1e6a1b91def4d"
   }
  }
 },
 "nbformat": 4,
 "nbformat_minor": 2
}
