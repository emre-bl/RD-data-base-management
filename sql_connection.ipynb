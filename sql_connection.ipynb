{
 "cells": [
  {
   "cell_type": "code",
   "execution_count": 90,
   "metadata": {},
   "outputs": [],
   "source": [
    "import psycopg2"
   ]
  },
  {
   "cell_type": "code",
   "execution_count": 91,
   "metadata": {},
   "outputs": [],
   "source": [
    "conn = psycopg2.connect(\n",
    "    host=\"localhost\",\n",
    "    database=\"Labaratuar\",\n",
    "    user=\"postgres\",\n",
    "    password=\"4664\")"
   ]
  },
  {
   "cell_type": "code",
   "execution_count": 92,
   "metadata": {},
   "outputs": [],
   "source": [
    "cursor = conn.cursor()"
   ]
  },
  {
   "cell_type": "code",
   "execution_count": 93,
   "metadata": {},
   "outputs": [],
   "source": [
    "cursor.execute(\"select version()\")\n"
   ]
  },
  {
   "cell_type": "code",
   "execution_count": 94,
   "metadata": {},
   "outputs": [
    {
     "name": "stdout",
     "output_type": "stream",
     "text": [
      "Connection established to:  ('PostgreSQL 15.1, compiled by Visual C++ build 1914, 64-bit',)\n"
     ]
    }
   ],
   "source": [
    "data = cursor.fetchone()\n",
    "print(\"Connection established to: \",data)"
   ]
  },
  {
   "cell_type": "code",
   "execution_count": null,
   "metadata": {},
   "outputs": [
    {
     "name": "stdout",
     "output_type": "stream",
     "text": [
      "1\n",
      "2\n",
      "3\n",
      "4\n",
      "5\n",
      "6\n",
      "7\n",
      "8\n",
      "9\n"
     ]
    }
   ],
   "source": [
    "\"\"\"\n",
    "query  = \"\"\"SELECT * FROM bina\"\"\"\n",
    "cursor.execute(query)\n",
    "conn.commit()\n",
    "results = cursor.fetchall()\n",
    "for row in results:\n",
    "    id = row[0]\n",
    "    print (id)\"\"\""
   ]
  },
  {
   "cell_type": "code",
   "execution_count": 88,
   "metadata": {},
   "outputs": [],
   "source": [
    "from pypika import Query, Table, Field, Schema\n",
    "\n",
    "def set_salaries(x, ekipler = None):\n",
    "    calisan = Table('calisan')\n",
    "\n",
    "    if ekipler == None:\n",
    "        q = Query.update(calisan).set(calisan.maas,calisan.maas*x).where(calisan.calisantipi == 'Maasli')\n",
    "        cursor.execute(q.get_sql())\n",
    "        conn.commit()\n",
    "    else:\n",
    "        for ekip in ekipler:\n",
    "            q = Query.update(calisan).set(calisan.maas,calisan.maas*x).where(\n",
    "                calisan.calisantipi == 'Maasli' and calisan.ekipadı == ekip\n",
    "            )\n",
    "            cursor.execute(q.get_sql())\n",
    "            conn.commit()"
   ]
  },
  {
   "cell_type": "code",
   "execution_count": 95,
   "metadata": {},
   "outputs": [],
   "source": [
    "# set_salaries(5,['Violet'])\n"
   ]
  },
  {
   "cell_type": "code",
   "execution_count": 96,
   "metadata": {},
   "outputs": [
    {
     "name": "stdout",
     "output_type": "stream",
     "text": [
      "Mauv None\n",
      "Mauv None\n",
      "Mauv None\n",
      "Mauv None\n",
      "Teal None\n",
      "Pink None\n",
      "Pink None\n",
      "Crimson None\n",
      "Aquamarine None\n",
      "Fuscia None\n",
      "Fuscia None\n",
      "Mauv 9140\n",
      "Mauv 9556\n",
      "Mauv 8072\n",
      "Teal 6300\n",
      "Teal 8288\n",
      "Teal 8524\n",
      "Teal 7412\n",
      "Pink 8596\n",
      "Violet None\n",
      "Violet 176200\n",
      "Violet 197100\n",
      "Violet 183800\n",
      "Violet 174800\n",
      "Violet 246200\n",
      "Pink 8036\n",
      "Pink 9924\n",
      "Crimson 6700\n",
      "Crimson 6932\n",
      "Crimson 8116\n",
      "Crimson 8412\n",
      "Aquamarine 9940\n",
      "Aquamarine 7224\n",
      "Aquamarine 7352\n",
      "Fuscia 8092\n"
     ]
    }
   ],
   "source": [
    "query  = \"\"\"SELECT * FROM calisan\"\"\"\n",
    "cursor.execute(query)\n",
    "conn.commit()\n",
    "results = cursor.fetchall()\n",
    "for row in results:\n",
    "    print (row[5],row[6])\n"
   ]
  },
  {
   "cell_type": "code",
   "execution_count": null,
   "metadata": {},
   "outputs": [
    {
     "name": "stdout",
     "output_type": "stream",
     "text": [
      "Violet 6 1 1 4YE-7D 166-43-7912\n",
      "Mauv 7 2 2 0IW-7O 234-12-6829\n",
      "Teal 5 3 3 5TU-2V 774-36-4715\n",
      "Pink 5 4 4 0PR-9F 815-50-0245\n",
      "Crimson 5 5 5 1KA-7Z 231-49-7354\n",
      "Aquamarine 4 6 6 8ZG-9L 530-96-4632\n",
      "Fuscia 3 7 7 3ZB-3C 359-58-9438\n"
     ]
    }
   ],
   "source": [
    "from pypika import Query, Table, Field\n",
    "from pypika import Table, Query, Schema\n",
    "\n",
    "schema = Schema('public')\n",
    "q = Query.from_(schema.bina).select(bina.binano)\n",
    "\n",
    "\"\"\"q = Query.from_('binano').select('bno')\"\"\"\n",
    "\n",
    "cursor.execute(q.get_sql())\n",
    "conn.commit()\n",
    "for row in results:\n",
    "    print (*row)"
   ]
  },
  {
   "cell_type": "code",
   "execution_count": null,
   "metadata": {},
   "outputs": [
    {
     "name": "stdout",
     "output_type": "stream",
     "text": [
      "1\n",
      "2\n",
      "3\n",
      "4\n",
      "5\n",
      "6\n",
      "7\n",
      "8\n",
      "9\n"
     ]
    }
   ],
   "source": [
    "from pypika import Query\n",
    "q = Query.from_('bina').select('binano')\n",
    "\n",
    "cursor.execute(q.get_sql())\n",
    "conn.commit()\n",
    "results = cursor.fetchall()\n",
    "for row in results:\n",
    "    print (*row)\n"
   ]
  },
  {
   "cell_type": "code",
   "execution_count": null,
   "metadata": {},
   "outputs": [],
   "source": [
    "from pypika import Query, Table, Field, Schema\n",
    "\n",
    "calisan = Table('calisan')\n",
    "\n",
    "q = Query.update(calisan).set(calisan.maas,calisan.maas*0.5).where(calisan.calisantipi == 'Maasli')\n",
    "cursor.execute(q.get_sql())\n",
    "conn.commit()"
   ]
  },
  {
   "cell_type": "code",
   "execution_count": null,
   "metadata": {},
   "outputs": [],
   "source": []
  }
 ],
 "metadata": {
  "kernelspec": {
   "display_name": "Python 3.8.8rc1 64-bit",
   "language": "python",
   "name": "python3"
  },
  "language_info": {
   "codemirror_mode": {
    "name": "ipython",
    "version": 3
   },
   "file_extension": ".py",
   "mimetype": "text/x-python",
   "name": "python",
   "nbconvert_exporter": "python",
   "pygments_lexer": "ipython3",
   "version": "3.8.8rc1"
  },
  "orig_nbformat": 4,
  "vscode": {
   "interpreter": {
    "hash": "66f5a7bbd6c943ffc34a53eb1c1f03aad673b1216fb5b79a025e16357e990e57"
   }
  }
 },
 "nbformat": 4,
 "nbformat_minor": 2
}
